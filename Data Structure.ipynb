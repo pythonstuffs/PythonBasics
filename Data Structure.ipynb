


Data Structure
































A] Mutable













































1. List
A list is a collection which is ordered and changeable. In Python lists are written with square brackets.
    Method    Description
    append()Adds an element at the end of the list
    clear()    Removes all the elements from the list
    copy()    Returns a copy of the list
    count()    Returns the number of elements with the specified value
    extend()Add the elements of a list (or any iterable), to the end of the current list
    index()    Returns the index of the first element with the specified value
    insert()Adds an element at the specified position
    pop()    Removes the element at the specified position
    remove()Removes the item with the specified value
    reverse()Reverses the order of the list
    sort()    Sorts the list




In [1]:


























#Create a list
list1 = [1,23,4,5,"hello"]














In [2]:

























#Sort
sorted(list1)











Out[2]:

[1, 4, 5, 23, 'hello']





In [3]:

























#append list
list1.append("Appeneded")
list1











Out[3]:

[1, 23, 4, 5, 'hello', 'Appeneded']





In [4]:

























# insert by index
list1.insert (3,"Inserted")
list1











Out[4]:

[1, 23, 4, 'Inserted', 5, 'hello', 'Appeneded']





In [5]:

























#Remove Item by value
list1.remove(1)
list1











Out[5]:

[23, 4, 'Inserted', 5, 'hello', 'Appeneded']





In [6]:

























#The pop() method removes the specified index, (or the last item if index is not specified):
#example1
list1.pop(2)
list1











Out[6]:

[23, 4, 5, 'hello', 'Appeneded']





In [7]:

























#exapmle2
list1.pop()
list1











Out[7]:

[23, 4, 5, 'hello']





In [8]:

























# Access Item
list1[1]











Out[8]:

4





In [9]:

























#Access Items
list1[1:3]











Out[9]:

[4, 5]





In [10]:

























# reverse
list1[::-1]











Out[10]:

['hello', 5, 4, 23]





In [11]:

























#reverse by function
list1.reverse()
list1











Out[11]:

['hello', 5, 4, 23]





In [12]:

























# Delete Element
#Example1
del list1[0]
list1











Out[12]:

[5, 4, 23]





In [13]:

























#Exapmle2 : The del keyword can also delete the list completely:
del list1
list1 # it will show error due list is deleted












---------------------------------------------------------------------------
NameError                                 Traceback (most recent call last)
<ipython-input-13-34f32114d8b7> in <module>()
      1 #Exapmle2 : The del keyword can also delete the list completely:
      2 del list1
----> 3 list1 # it will show error due list is deleted

NameError: name 'list1' is not defined







In [14]:

























#Clear List
list1 = [1,23,4,5,"hello"]
list1











Out[14]:

[1, 23, 4, 5, 'hello']





In [15]:

























# change the value of item (indexing start with 0)
list1[1]="edited"
list1











Out[15]:

[1, 'edited', 4, 5, 'hello']





In [16]:

























# check item exist in List
#Example 1
'edited' in list1











Out[16]:

True





In [17]:

























#Example 2
'check' in list1











Out[17]:

False





In [18]:

























# check item not exist in List
#Example 1
'edited' not in list1











Out[18]:

False





In [19]:

























#Example 2
'check' not in list1











Out[19]:

True





In [20]:

























# lentgh of list
len(list1)











Out[20]:

5





In [21]:

























#Copy List
"""You cannot copy a list simply by typing list2 = list1, because: list2 will only be a reference to list1, and changes made in list1 will automatically also be made in list2.
​
There are ways to make a copy, one way is to use the built-in List method copy()."""
list2 = list(list1)
list2











Out[21]:

[1, 'edited', 4, 5, 'hello']


















































2. Dictionary

A dictionary is a collection which is unordered, changeable and indexed. In Python dictionaries are written with curly brackets, and they have keys and values.
Method    Description
clear()    Removes all the elements from the dictionary
copy()    Returns a copy of the dictionary
fromkeys()    Returns a dictionary with the specified keys and values
get()    Returns the value of the specified key
items()    Returns a list containing the a tuple for each key value pair
keys()    Returns a list containing the dictionary's keys
pop()    Removes the element with the specified key
popitem()    Removes the last inserted key-value pair
setdefault()    Returns the value of the specified key. If the key does not exist: insert the key, with the specified value
update()    Updates the dictionary with the specified key-value pairs
values()    Returns a list of all the values in the dictionary




In [22]:

























# Create a dictionary
dict1={
  "brand": "Ford",
  "model": "Mustang",
  "year": 1964
}
dict1











Out[22]:

{'brand': 'Ford', 'model': 'Mustang', 'year': 1964}





In [23]:

























# accessing Item by key
#example 1
dict1['model']











Out[23]:

'Mustang'





In [24]:

























#example2
dict1.get('model')











Out[24]:

'Mustang'





In [25]:

























#changing a value 
dict1['year']=2019
dict1











Out[25]:

{'brand': 'Ford', 'model': 'Mustang', 'year': 2019}





In [26]:

























# check for key Exist
'model' in dict1











Out[26]:

True





In [27]:

























# check for key not exist
'model' not in dict1











Out[27]:

False





In [28]:

























# Length of dict1
len(dict1)











Out[28]:

3





In [29]:

























#adding item
dict1['color']='Red'
dict1











Out[29]:

{'brand': 'Ford', 'color': 'Red', 'model': 'Mustang', 'year': 2019}





In [30]:

























# remove item
#The pop() method removes the item with the specified key name:
dict1.pop('model')
dict1











Out[30]:

{'brand': 'Ford', 'color': 'Red', 'year': 2019}





In [31]:

























#The popitem() method removes the last inserted item (in versions before 3.7, a random item is removed instead):
dict1.popitem()
dict1











Out[31]:

{'brand': 'Ford', 'year': 2019}





In [32]:

























#The del keyword removes the item with the specified key name:
del dict1['brand']
dict1











Out[32]:

{'year': 2019}





In [33]:

























#The del keyword can also delete the dictionary completely:
del dict1
dict1 # it will show error due dict1 is deleted












---------------------------------------------------------------------------
NameError                                 Traceback (most recent call last)
<ipython-input-33-072a02a84937> in <module>()
      1 #The del keyword can also delete the dictionary completely:
      2 del dict1
----> 3 dict1

NameError: name 'dict1' is not defined







In [36]:

























#The clear() keyword empties the dictionary:
dict1 = {
  "brand": "Ford",
  "model": "Mustang",
  "year": 1964
}
dict1.clear()
dict1











Out[36]:

{}





In [37]:

























#It is also possible to use the dict() constructor to make a new dictionary:
thisdict =  dict(brand="Ford", model="Mustang", year=1964)
thisdict











Out[37]:

{'brand': 'Ford', 'model': 'Mustang', 'year': 1964}






















































3. Set

A set is a collection which is unordered and unindexed. In Python sets are written with curly brackets.
Method    Description
add()    Adds an element to the set
clear()    Removes all the elements from the set
copy()    Returns a copy of the set
difference()    Returns a set containing the difference between two or more sets
difference_update()    Removes the items in this set that are also included in another, specified set
discard()    Remove the specified item
intersection()    Returns a set, that is the intersection of two other sets
intersection_update()    Removes the items in this set that are not present in other, specified set(s)
isdisjoint()    Returns whether two sets have a intersection or not
issubset()    Returns whether another set contains this set or not
issuperset()    Returns whether this set contains another set or not
pop()    Removes an element from the set
remove()    Removes the specified element
symmetric_difference()    Returns a set with the symmetric differences of two sets
symmetric_difference_update()    inserts the symmetric differences from this set and another
union()    Return a set containing the union of sets
update()    Update the set with the union of this set and others




In [38]:

























# create a Set
​
set1 ={10,15,15,15,15,15,20,20,45,45,60,"hello","hello"}
set1











Out[38]:

{10, 15, 20, 45, 60, 'hello'}





In [40]:

























# accessing item
"""You cannot access items in a set by referring to an index, since sets are unordered the items has no index.
​
But you can loop through the set items using a for loop, or ask if a specified value is present in a set, by using the in keyword.
​
"""
for x in set1:
    print x












10
45
15
20
60
hello






In [41]:

























# check element in set
'hello' in set1











Out[41]:

True





In [42]:

























# check element not in set
'hello' not in set1











Out[42]:

False





In [43]:

























#add item
set1.add('added')
set1











Out[43]:

{10, 15, 20, 45, 60, 'added', 'hello'}





In [45]:

























# add multiple values
set1.update([15,20,2,020,20,20,20,21])
set1











Out[45]:

{2, 10, 15, 16, 20, 21, 45, 60, 'added', 'hello'}





In [46]:

























#length of set
len(set1)











Out[46]:

10





In [49]:

























# Remove Item
set1.remove('hello')
set1
#Note: If the item to remove does not exist, remove() will raise an error.











Out[49]:

{2, 10, 15, 16, 20, 21, 45, 60}





In [51]:

























#Remove item by using the discard() method:
set1.discard('added')
set1
#Note: If the item to remove does not exist, discard() will NOT raise an error.











Out[51]:

{2, 10, 15, 16, 20, 21, 45, 60}





In [53]:

























#Pop
#Note: Sets are unordered, so when using the pop() method, you will not know which item that gets removed.
set1.pop()
set1











Out[53]:

{10, 15, 16, 20, 21, 45, 60}





In [54]:

























#clear
set1.clear()
set1











Out[54]:

set()





In [55]:

























#delete set
del set1
set1 # delete the instance of the set, will raise error












---------------------------------------------------------------------------
NameError                                 Traceback (most recent call last)
<ipython-input-55-cc78dd03663b> in <module>()
      1 #delete set
      2 del set1
----> 3 set1

NameError: name 'set1' is not defined







In [56]:

























#Using the set() constructor to make a set:
set1 =set((1,21,2,12,12,12,12,12,12,1,21,21,12))
set1











Out[56]:

{1, 2, 12, 21}


































B] Immutable's


































1. Tuples

A tuple is a collection which is ordered and unchangeable. In Python tuples are written with round brackets.


































        Method    Description
        count()    Returns the number of times a specified value occurs in a tuple
        index()    Searches the tuple for a specified value and returns the position of where it was found




In [57]:

























#create a tuple
tuple1 =('banana',1,2)
tuple1











Out[57]:

('banana', 1, 2)





In [58]:

























#accessing tuple
tuple1[1]











Out[58]:

1





In [60]:

























#Iterate through the items and print the values:
for x in tuple1:
    print(x)












banana
1
2






In [61]:

























# check for element is exist
1 in tuple1











Out[61]:

True





In [62]:

























#check for element is not exit:
1 not in tuple1











Out[62]:

False





In [63]:

























# length of tuple
len(tuple1)











Out[63]:

3





In [64]:

























# delete tuple
del tuple1
tuple1 # wil raise the error












---------------------------------------------------------------------------
NameError                                 Traceback (most recent call last)
<ipython-input-64-a9e5edee29cb> in <module>()
      1 # delete tuple
      2 del tuple1
----> 3 tuple1 # wil raise the error

NameError: name 'tuple1' is not defined




































2.Numeric




































There are three numeric types in Python:
int
float
complex




In [67]:

























x = 1    # int
y = 2.8  # float
z = 1j   # complex
print (x,y,z)












(1, 2.8, 1j)






In [68]:

























# to know type of variable
print (type(x))
print (type(y))
print (type(z))












<type 'int'>
<type 'float'>
<type 'complex'>



































a. int
































Int, or integer, is a whole number, positive or negative, without decimals, of unlimited length.



In [70]:

























x = 1
y = 35656222554887711
z = -3255522
​
print(type(x))
print(type(y))
print(type(z))












<type 'int'>
<type 'long'>
<type 'int'>



































b. float
































float, or "floating point number" is a number, positive or negative, containing one or more decimals.



In [71]:

























x = 1.10
y = 1.0
z = -35.59
​
print(type(x))
print(type(y))
print(type(z))












<type 'float'>
<type 'float'>
<type 'float'>






In [72]:

























#Float can also be scientific numbers with an "e" to indicate the power of 10.
x = 35e3
y = 12E4
z = -87.7e100
​
print(type(x))
print(type(y))
print(type(z))












<type 'float'>
<type 'float'>
<type 'float'>



































c. Complex


































Complex numbers are written with a "j" as the imaginary part:



In [73]:

























x = 3+5j
y = 5j
z = -5j
​
print(type(x))
print(type(y))
print(type(z))












<type 'complex'>
<type 'complex'>
<type 'complex'>



































Type Conversion
































You can convert from one type to another with the int(), float(), and complex() methods:



In [74]:

























x = 1 # int
y = 2.8 # float
z = 1j # complex
​
#convert from int to float:
a = float(x)
​
#convert from float to int:
b = int(y)
​
#convert from int to complex:
c = complex(x)
​
print(a)
print(b)
print(c)
​
print(type(a))
print(type(b))
print(type(c))












1.0
2
(1+0j)
<type 'float'>
<type 'int'>
<type 'complex'>



































Random Number
































Python does not have a random() function to make a random number, but Python has a built-in module called random that can be used to make random numbers:



In [75]:

























import random
​
print(random.randrange(1,10))












9




































The random module has a set of methods:





















































Method    Description
seed()    Initialize the random number generator
getstate()    Returns the current internal state of the random number generator
setstate()    Restores the internal state of the random number generator
getrandbits()    Returns a number representing the random bits
randrange()    Returns a random number between the given range
randint()    Returns a random number between the given range
choice()    Returns a random element from the given sequence
choices()    Returns a list with a random selection from the given sequence
shuffle()    Takes a sequence and returns the sequence in a random order
sample()    Returns a given sample of a sequence
random()    Returns a random float number between 0 and 1
uniform()    Returns a random float number between two given parameters
triangular()    Returns a random float number between two given parameters, you can also set a mode parameter to specify the midpoint between the two other parameters
betavariate()    Returns a random float number between 0 and 1 based on the Beta distribution (used in statistics)
expovariate()    Returns a random float number between 0 and 1, or between 0 and -1 if the parameter is negative, based on the Exponential distribution (used in statistics)
gammavariate()    Returns a random float number between 0 and 1 based on the Gamma distribution (used in statistics)
gauss()    Returns a random float number between 0 and 1 based on the Gaussian distribution (used in probability theories)
lognormvariate()    Returns a random float number between 0 and 1 based on a log-normal distribution (used in probability theories)
normalvariate()    Returns a random float number between 0 and 1 based on the normal distribution (used in probability theories)
vonmisesvariate()    Returns a random float number between 0 and 1 based on the von Mises distribution (used in directional statistics)
paretovariate()    Returns a random float number between 0 and 1 based on the Pareto distribution (used in probability theories)
weibullvariate()    Returns a random float number between 0 and 1 based on the Weibull distribution (used in statistics)

































This file created for data structure in python, hence not covered above random function examples
































3.String


































String literals in python are surrounded by either single quotation marks, or double quotation marks.

'hello' is the same as "hello".



In [76]:

























print("Hello")
print('Hello')












Hello
Hello






In [77]:

























#Assigning a string to a variable is done with the variable name followed by an equal sign and the string:
a = "Hello"
print(a)












Hello






In [78]:

























#You can assign a multiline string to a variable by using three quotes:
a = """Lorem ipsum dolor sit amet,
consectetur adipiscing elit,
sed do eiusmod tempor incididunt
ut labore et dolore magna aliqua."""
print(a)












Lorem ipsum dolor sit amet,
consectetur adipiscing elit,
sed do eiusmod tempor incididunt
ut labore et dolore magna aliqua.






In [79]:

























a = '''Lorem ipsum dolor sit amet,
consectetur adipiscing elit,
sed do eiusmod tempor incididunt
ut labore et dolore magna aliqua.'''
print(a)












Lorem ipsum dolor sit amet,
consectetur adipiscing elit,
sed do eiusmod tempor incididunt
ut labore et dolore magna aliqua.






In [80]:

























#Strings are Arrays
a = "Hello, World!"
print(a[1])












e






In [81]:

























#Substring. Get the characters from position 2 to position 5 (not included):
b = "Hello, World!"
print(b[2:5])












llo






In [82]:

























#The strip() method removes any whitespace from the beginning or the end:
a = " Hello, World! "
print(a.strip())












Hello, World!






In [83]:

























#The len() method returns the length of a string:
a = "Hello, World!"
print(len(a))
​












13






In [84]:

























#The lower() method returns the string in lower case:
a = "Hello, World!"
print(a.lower())












hello, world!






In [85]:

























#The upper() method returns the string in upper case:
a = "Hello, World!"
print(a.upper())












HELLO, WORLD!






In [86]:

























#The replace() method replaces a string with another string:
a = "Hello, World!"
print(a.replace("H", "J"))












Jello, World!






In [87]:

























#The split() method splits the string into substrings if it finds instances of the separator:
a = "Hello, World!"
print(a.split(","))












['Hello', ' World!']






In [88]:

























#String Format
age = 36
txt = "My name is John, I am " + age
print(txt) # this gives a error
​












---------------------------------------------------------------------------
TypeError                                 Traceback (most recent call last)
<ipython-input-88-d0cb63746e6a> in <module>()
      1 #String Format
      2 age = 36
----> 3 txt = "My name is John, I am " + age
      4 print(txt)

TypeError: cannot concatenate 'str' and 'int' objects







In [89]:

























# to overcome above error
age = 36
txt = "My name is John, I am " + str(age) # casting
print(txt) # this gives a error












My name is John, I am 36






In [90]:

























# alternative
age = 36
txt = "My name is John, and I am {}"
print(txt.format(age))












My name is John, and I am 36






In [91]:

























quantity = 3
itemno = 567
price = 49.95
myorder = "I want {} pieces of item {} for {} dollars."
print(myorder.format(quantity, itemno, price))












I want 3 pieces of item 567 for 49.95 dollars.






In [92]:

























#You can use index numbers {0} to be sure the arguments are placed in the correct placeholders:
quantity = 3
itemno = 567
price = 49.95
myorder = "I want to pay {2} dollars for {0} pieces of item {1}."
print(myorder.format(quantity, itemno, price))












I want to pay 49.95 dollars for 3 pieces of item 567.

